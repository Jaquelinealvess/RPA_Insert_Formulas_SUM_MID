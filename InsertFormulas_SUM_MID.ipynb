{
 "cells": [
  {
   "cell_type": "code",
   "execution_count": 2,
   "id": "ec6c76a8",
   "metadata": {},
   "outputs": [],
   "source": [
    "from openpyxl import load_workbook\n",
    "import os \n",
    "\n",
    "# abrindo arquivo excel\n",
    "caminho_nome_arquivo = \"C:\\\\Users\\\\jasantos\\\\Curso RPA\\\\RPA_FormulasExcel\\\\Formulas.xlsx\"\n",
    "planilha_aberta = load_workbook(filename=caminho_nome_arquivo)\n",
    "\n",
    "# seleciona a sheet com nome Aluno\n",
    "sheet_selecionada = planilha_aberta['Aluno']\n",
    "\n",
    "# Preenchendo as formulas de SUM e operações\n",
    "sheet_selecionada['A6'] = \"=SUM(A2:A5)\"\n",
    "sheet_selecionada['B6'] = \"=SUM(B2:B5)\"\n",
    "sheet_selecionada['D2'] = \"=A2+B2\"\n",
    "sheet_selecionada['D3'] = \"=A3-B3\"\n",
    "sheet_selecionada['D4'] = \"=A4*B4\"\n",
    "sheet_selecionada['D5'] = \"=A5/B5\"\n",
    "\n",
    "# Preenchendo as formulas de MID para separar o CPF em partes\n",
    "sheet_selecionada['B12'] = \"=MID(A12,1,3)\"\n",
    "sheet_selecionada['C12'] = \"=MID(A12,5,3)\"\n",
    "sheet_selecionada['D12'] = \"=MID(A12,9,3)\"\n",
    "sheet_selecionada['E12'] = \"=MID(A12,13,2)\"\n",
    "\n",
    "# salva a planilha com as alterações\n",
    "planilha_aberta.save(filename=caminho_nome_arquivo)\n",
    "\n",
    "# abre a planilha\n",
    "os.startfile(caminho_nome_arquivo) "
   ]
  },
  {
   "cell_type": "code",
   "execution_count": null,
   "id": "92985d21",
   "metadata": {},
   "outputs": [],
   "source": []
  }
 ],
 "metadata": {
  "kernelspec": {
   "display_name": "Python 3 (ipykernel)",
   "language": "python",
   "name": "python3"
  },
  "language_info": {
   "codemirror_mode": {
    "name": "ipython",
    "version": 3
   },
   "file_extension": ".py",
   "mimetype": "text/x-python",
   "name": "python",
   "nbconvert_exporter": "python",
   "pygments_lexer": "ipython3",
   "version": "3.9.12"
  }
 },
 "nbformat": 4,
 "nbformat_minor": 5
}
